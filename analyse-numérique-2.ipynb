{
 "cells": [
  {
   "cell_type": "markdown",
   "metadata": {},
   "source": [
    "# Analyse Numerique 2"
   ]
  },
  {
   "cell_type": "code",
   "execution_count": 1,
   "metadata": {},
   "outputs": [],
   "source": [
    "import math\n",
    "import matplotlib.pyplot as plt\n",
    "import numpy as np\n",
    "from ipywidgets import interact, interactive, fixed, interact_manual, FloatSlider, IntSlider\n"
   ]
  },
  {
   "cell_type": "code",
   "execution_count": 2,
   "metadata": {},
   "outputs": [],
   "source": [
    "#tout d'abord, la fonction à interpoler. ici, il s'agit de sinus sur [0,1].\n",
    "def f(x):\n",
    "    return math.sin(math.pi*x)"
   ]
  },
  {
   "cell_type": "markdown",
   "metadata": {},
   "source": [
    "Ensuite on definie une fonction d'echantillonage  \n",
    "Elle renvoie une liste de x et une liste de y"
   ]
  },
  {
   "cell_type": "code",
   "execution_count": 3,
   "metadata": {},
   "outputs": [],
   "source": [
    "def echantillonage(fonction, début, fin, nombre_éléments):\n",
    "    x = np.linspace(début, fin, nombre_éléments)  # Retourne des nombres régulièrement espacés sur un interval.\n",
    "    return x, [fonction(i) for i in x]"
   ]
  },
  {
   "cell_type": "code",
   "execution_count": 4,
   "metadata": {},
   "outputs": [
    {
     "data": {
      "text/plain": [
       "(array([0.  , 0.25, 0.5 , 0.75, 1.  ]),\n",
       " [0.0, 0.7071067811865476, 1.0, 0.7071067811865476, 1.2246467991473532e-16])"
      ]
     },
     "execution_count": 4,
     "metadata": {},
     "output_type": "execute_result"
    }
   ],
   "source": [
    "echantillonage(f, 0, 1, 5)"
   ]
  },
  {
   "cell_type": "markdown",
   "metadata": {},
   "source": [
    "Puis on definie une fonction qui trace une fonction selon quelques point echantillonés.  \n",
    "Pourquoi?  \n",
    "Par ce que si l'on veut tracer en interactif, if faut passer le nombre d'éléments en paramètre à la fonction de tracer."
   ]
  },
  {
   "cell_type": "code",
   "execution_count": 5,
   "metadata": {},
   "outputs": [],
   "source": [
    "def trace(f, mini, maxi, nombre_elements):\n",
    "    x, y = echantillonage(f, mini, maxi, nombre_elements)\n",
    "    plt.plot(x,y,'-o')\n",
    "    plt.show()"
   ]
  },
  {
   "cell_type": "code",
   "execution_count": 6,
   "metadata": {},
   "outputs": [
    {
     "data": {
      "image/png": "[encoded data removed]",
      "text/plain": [
       "<Figure size 432x288 with 1 Axes>"
      ]
     },
     "metadata": {
      "needs_background": "light"
     },
     "output_type": "display_data"
    }
   ],
   "source": [
    "trace(f, 0, 1, 6)"
   ]
  },
  {
   "cell_type": "markdown",
   "metadata": {},
   "source": [
    "Et en interactif  \n"
   ]
  },
  {
   "cell_type": "code",
   "execution_count": 7,
   "metadata": {},
   "outputs": [
    {
     "data": {
      "application/vnd.jupyter.widget-view+json": {
       "model_id": "4f5931038e91401e824ce3d80afc0b97",
       "version_major": 2,
       "version_minor": 0
      },
      "text/plain": [
       "interactive(children=(FloatSlider(value=0.2, description='mini', max=0.5), IntSlider(value=8, description='nom…"
      ]
     },
     "metadata": {},
     "output_type": "display_data"
    },
    {
     "data": {
      "text/plain": [
       "<function __main__.trace(f, mini, maxi, nombre_elements)>"
      ]
     },
     "execution_count": 7,
     "metadata": {},
     "output_type": "execute_result"
    }
   ],
   "source": [
    "interact(trace, f=fixed(f), mini=(0,0.5,0.1), maxi=fixed(1), nombre_elements=(1, 15, 1))"
   ]
  },
  {
   "cell_type": "markdown",
   "metadata": {},
   "source": [
    "## La fonction d'interpolation de lagrange\n",
    "\n",
    "On lui passe un echantillon de points et la valeur que l'on veut interpoller."
   ]
  },
  {
   "cell_type": "markdown",
   "metadata": {},
   "source": [
    "J'ai pris ton code pour la base mais j'ai du faire une erreur que je ne trouve pas.  \n",
    "ici :\n",
    "```\n",
    "def interpolagrange(echantillon, x):\n",
    "    n_echantillonage = len(echantillon)\n",
    "    a, fa = echantillon\n",
    "    interpol = 0\n",
    "    for k in range(n_echantillonage):\n",
    "        f=fa[k]\n",
    "        for i in range(n_echantillonage):\n",
    "            if i!=k:\n",
    "                f=f*((x-a[i]) / (a[k]-a[i]))\n",
    "        interpol=interpol+f\n",
    "    return(interpol)\n",
    "```"
   ]
  },
  {
   "cell_type": "markdown",
   "metadata": {},
   "source": [
    "Du coup j'ai pris un autre chemin (pas meilleur)  \n",
    "\n",
    "_Pour comprendre la fonction :_\n",
    "\n",
    "**zip** \n",
    "```\n",
    "zip([1, 2, 3, 4],['a','b','c','d']) --> [(1,'a'), (2,'b'), (3,'c'), (4,'d')]\n",
    "```\n",
    "\n",
    "**enumerate**\n",
    "```\n",
    "enumerate(['a','b','c','d']) --> [(1,'a'), (2,'b'), (3,'c'), (4,'d')]\n",
    "```\n",
    "Dans le principe car ça ne retourne pas des liste mais des iterateurs"
   ]
  },
  {
   "cell_type": "code",
   "execution_count": 8,
   "metadata": {},
   "outputs": [],
   "source": [
    "def interpolagrange(echantillon, x):\n",
    "    interpol = 0\n",
    "    for k, elem in enumerate(zip(* echantillon)): # (1, (x1,y1)), (2, (x2,y2)) ... -> k l'index et elem le point (x,y)\n",
    "        x_k, y_k = elem\n",
    "        f = y_k\n",
    "        for i, elem in enumerate(zip(* echantillon)):\n",
    "            x_i, y_i = elem\n",
    "            if i != k:\n",
    "                f = f * ((x-x_i) / (x_k-x_i))\n",
    "        interpol = interpol + f\n",
    "    return(interpol)"
   ]
  },
  {
   "cell_type": "markdown",
   "metadata": {},
   "source": [
    "## Un exemple\n",
    "prenons un echantillon E"
   ]
  },
  {
   "cell_type": "code",
   "execution_count": 9,
   "metadata": {},
   "outputs": [],
   "source": [
    "E = echantillonage(f, 0, 1, 5)"
   ]
  },
  {
   "cell_type": "code",
   "execution_count": 10,
   "metadata": {},
   "outputs": [
    {
     "data": {
      "image/png": "[encoded data removed]",
      "text/plain": [
       "<Figure size 432x288 with 1 Axes>"
      ]
     },
     "metadata": {
      "needs_background": "light"
     },
     "output_type": "display_data"
    }
   ],
   "source": [
    "trace(f, 0, 1, 5)"
   ]
  },
  {
   "cell_type": "markdown",
   "metadata": {},
   "source": [
    "Si on veut afficher les deux courbes (échantillonage + interpollation simultanément, il faut redéfinir une fonction trace"
   ]
  },
  {
   "cell_type": "code",
   "execution_count": 11,
   "metadata": {},
   "outputs": [],
   "source": [
    "def trace_lagrange(fonction_ref, nombre_echantillon, debut, fin):\n",
    "    \n",
    "    echantillon = echantillonage(fonction_ref, debut, fin, nombre_echantillon)\n",
    "    \n",
    "    lagrange_x = np.linspace(debut, fin, 200)\n",
    "    lagrange_y  = [interpolagrange(echantillon, x) for x in lagrange_x] \n",
    "    \n",
    "    ref_x = np.linspace(debut, fin, 200)\n",
    "    ref_y = [fonction_ref(x) for x in ref_x] \n",
    "    \n",
    "    # on trace la fonction de référence\n",
    "    plt.plot(ref_x,ref_y, color='orange')\n",
    "    \n",
    "    # on place les points d'échantillonage\n",
    "    plt.plot(* echantillon,'o', color='orange')\n",
    "    \n",
    "    # on trace le lagrange à n échantillon\n",
    "    plt.plot(lagrange_x,lagrange_y, color='blue')\n",
    "    \n",
    "    plt.show()"
   ]
  },
  {
   "cell_type": "code",
   "execution_count": 12,
   "metadata": {},
   "outputs": [
    {
     "data": {
      "image/png": "[encoded data removed]",
      "text/plain": [
       "<Figure size 432x288 with 1 Axes>"
      ]
     },
     "metadata": {
      "needs_background": "light"
     },
     "output_type": "display_data"
    }
   ],
   "source": [
    "trace_lagrange(f,5,0,1)"
   ]
  },
  {
   "cell_type": "markdown",
   "metadata": {},
   "source": [
    ".pour sin en 5 points c'est déjà très très proche.  \n",
    "on ne voit pas la courbe de reference  \n",
    "en interactif ça donne ça :"
   ]
  },
  {
   "cell_type": "code",
   "execution_count": 13,
   "metadata": {},
   "outputs": [
    {
     "data": {
      "application/vnd.jupyter.widget-view+json": {
       "model_id": "2cff2f53eb7946dfb087ed954ea7a90d",
       "version_major": 2,
       "version_minor": 0
      },
      "text/plain": [
       "interactive(children=(IntSlider(value=8, description='nombre_echantillon', max=15, min=1), FloatSlider(value=0…"
      ]
     },
     "metadata": {},
     "output_type": "display_data"
    },
    {
     "data": {
      "text/plain": [
       "<function __main__.trace_lagrange(fonction_ref, nombre_echantillon, debut, fin)>"
      ]
     },
     "execution_count": 13,
     "metadata": {},
     "output_type": "execute_result"
    }
   ],
   "source": [
    "interact(trace_lagrange, fonction_ref=fixed(f), nombre_echantillon=(1,15), debut=(0,1,0.01), fin=(0.1,1,0.01))"
   ]
  },
  {
   "cell_type": "code",
   "execution_count": 14,
   "metadata": {},
   "outputs": [
    {
     "data": {
      "application/vnd.jupyter.widget-view+json": {
       "model_id": "61797b977e07447c809ed38a344388e3",
       "version_major": 2,
       "version_minor": 0
      },
      "text/plain": [
       "interactive(children=(IntSlider(value=4, description='nombre_echantillon', max=20, min=2), FloatSlider(value=0…"
      ]
     },
     "metadata": {},
     "output_type": "display_data"
    },
    {
     "data": {
      "text/plain": [
       "<function __main__.trace_lagrange(fonction_ref, nombre_echantillon, debut, fin)>"
      ]
     },
     "execution_count": 14,
     "metadata": {},
     "output_type": "execute_result"
    }
   ],
   "source": [
    "# pour ln(x)\n",
    "\n",
    "interact(trace_lagrange, \n",
    "         fonction_ref = fixed(math.log), \n",
    "         nombre_echantillon = IntSlider(value=4, max=20, min=2), \n",
    "         debut = FloatSlider(value=0.1, max=10, min=0.01),\n",
    "         fin = FloatSlider(value=10.0, max=50, min=0.01)\n",
    "        )"
   ]
  },
  {
   "cell_type": "code",
   "execution_count": 15,
   "metadata": {},
   "outputs": [
    {
     "data": {
      "application/vnd.jupyter.widget-view+json": {
       "model_id": "67770cfb87524a3e9417ffabaecee62f",
       "version_major": 2,
       "version_minor": 0
      },
      "text/plain": [
       "interactive(children=(IntSlider(value=6, description='nombre_echantillon', max=20, min=2), FloatSlider(value=4…"
      ]
     },
     "metadata": {},
     "output_type": "display_data"
    },
    {
     "data": {
      "text/plain": [
       "<function __main__.trace_lagrange(fonction_ref, nombre_echantillon, debut, fin)>"
      ]
     },
     "execution_count": 15,
     "metadata": {},
     "output_type": "execute_result"
    }
   ],
   "source": [
    "# pour x*sin(x)\n",
    "\n",
    "interact(trace_lagrange, \n",
    "         fonction_ref = fixed(lambda x: math.sin(x)*x), \n",
    "         nombre_echantillon = IntSlider(value=6, max=20, min=2), \n",
    "         debut = FloatSlider(value=4, max=10, min=0.00),\n",
    "         fin = FloatSlider(value=18.0, max=20, min=0.01)\n",
    "        )"
   ]
  },
  {
   "cell_type": "code",
   "execution_count": 16,
   "metadata": {},
   "outputs": [
    {
     "ename": "SyntaxError",
     "evalue": "unexpected EOF while parsing (<ipython-input-16-c8274f9f435f>, line 8)",
     "output_type": "error",
     "traceback": [
      "\u001b[1;36m  File \u001b[1;32m\"<ipython-input-16-c8274f9f435f>\"\u001b[1;36m, line \u001b[1;32m8\u001b[0m\n\u001b[1;33m    )\u001b[0m\n\u001b[1;37m     ^\u001b[0m\n\u001b[1;31mSyntaxError\u001b[0m\u001b[1;31m:\u001b[0m unexpected EOF while parsing\n"
     ]
    }
   ],
   "source": [
    "# pour x*sin(x)\n",
    "\n",
    "interact(trace_lagrange, \n",
    "         fonction_ref = fixed(lambda x: 1/(x ** 2 - 25), \n",
    "         nombre_echantillon = IntSlider(value=6, max=20, min=2), \n",
    "         debut = FloatSlider(value=-1, max=1, min=-1),\n",
    "         fin = FloatSlider(value=1, max=2, min=0.01)\n",
    "        )"
   ]
  },
  {
   "cell_type": "markdown",
   "metadata": {},
   "source": [
    "fin"
   ]
  }
 ],
 "metadata": {
  "kernelspec": {
   "display_name": "Python 3",
   "language": "python",
   "name": "python3"
  },
  "language_info": {
   "codemirror_mode": {
    "name": "ipython",
    "version": 3
   },
   "file_extension": ".py",
   "mimetype": "text/x-python",
   "name": "python",
   "nbconvert_exporter": "python",
   "pygments_lexer": "ipython3",
   "version": "3.8.5"
  }
 },
 "nbformat": 4,
 "nbformat_minor": 4
}
